{
 "cells": [
  {
   "cell_type": "markdown",
   "metadata": {},
   "source": [
    "\n",
    "# Entropy Explained Using Cards - 2nd Law of Thermodynamics\n",
    "\n",
    "## Galen J. Wilkerson\n",
    "\n",
    "### This is an explanation adapted from \n",
    "### Ian Stewart, _In pursuit of the unknown: 17 Equations that Changed the World_"
   ]
  },
  {
   "cell_type": "markdown",
   "metadata": {},
   "source": [
    "## Imagine you have two (very small) decks of cards:"
   ]
  },
  {
   "cell_type": "code",
   "execution_count": 2,
   "metadata": {},
   "outputs": [],
   "source": [
    "from itertools import permutations \n",
    "\n",
    "deck1 = ['Q', 'K']\n",
    "deck2 = ['2', '3']"
   ]
  },
  {
   "cell_type": "markdown",
   "metadata": {},
   "source": [
    "## How many ways can you order deck1?"
   ]
  },
  {
   "cell_type": "code",
   "execution_count": 15,
   "metadata": {},
   "outputs": [
    {
     "name": "stdout",
     "output_type": "stream",
     "text": [
      "[('Q', 'K'), ('K', 'Q')]\n",
      "2\n"
     ]
    }
   ],
   "source": [
    "deck1_permutations = list(permutations(deck1))\n",
    "\n",
    "print(deck1_permutations)\n",
    "\n",
    "number_permutations_1 = len(deck1_permutations)\n",
    "\n",
    "print(number_permutations_1)"
   ]
  },
  {
   "cell_type": "markdown",
   "metadata": {},
   "source": [
    "## How many ways can you order deck2?"
   ]
  },
  {
   "cell_type": "code",
   "execution_count": 17,
   "metadata": {},
   "outputs": [
    {
     "name": "stdout",
     "output_type": "stream",
     "text": [
      "[('2', '3'), ('3', '2')]\n",
      "2\n"
     ]
    }
   ],
   "source": [
    "deck2_permutations = list(permutations(deck2))\n",
    "\n",
    "print(deck2_permutations)\n",
    "\n",
    "number_permutations_2 = len(deck2_permutations)\n",
    "\n",
    "print(number_permutations_2)"
   ]
  },
  {
   "cell_type": "markdown",
   "metadata": {},
   "source": [
    "## So, keeping the two decks separate, we multiply the number of ways of ordering each deck together:"
   ]
  },
  {
   "cell_type": "code",
   "execution_count": 18,
   "metadata": {},
   "outputs": [
    {
     "name": "stdout",
     "output_type": "stream",
     "text": [
      "4\n"
     ]
    }
   ],
   "source": [
    "separate_decks_permutations = number_permutations_1 * number_permutations_2\n",
    "\n",
    "print(separate_decks_permutations)"
   ]
  },
  {
   "cell_type": "markdown",
   "metadata": {},
   "source": [
    "## Now we put the two decks together..."
   ]
  },
  {
   "cell_type": "code",
   "execution_count": 12,
   "metadata": {},
   "outputs": [
    {
     "data": {
      "text/plain": [
       "['Q', 'K', '2', '3']"
      ]
     },
     "execution_count": 12,
     "metadata": {},
     "output_type": "execute_result"
    }
   ],
   "source": [
    "decks_1_2 = deck1.copy()\n",
    "decks_1_2.extend(deck2)\n",
    "\n",
    "decks_1_2"
   ]
  },
  {
   "cell_type": "code",
   "execution_count": 20,
   "metadata": {},
   "outputs": [
    {
     "data": {
      "text/plain": [
       "[('Q', 'K', '2', '3'),\n",
       " ('Q', 'K', '3', '2'),\n",
       " ('Q', '2', 'K', '3'),\n",
       " ('Q', '2', '3', 'K'),\n",
       " ('Q', '3', 'K', '2'),\n",
       " ('Q', '3', '2', 'K'),\n",
       " ('K', 'Q', '2', '3'),\n",
       " ('K', 'Q', '3', '2'),\n",
       " ('K', '2', 'Q', '3'),\n",
       " ('K', '2', '3', 'Q'),\n",
       " ('K', '3', 'Q', '2'),\n",
       " ('K', '3', '2', 'Q'),\n",
       " ('2', 'Q', 'K', '3'),\n",
       " ('2', 'Q', '3', 'K'),\n",
       " ('2', 'K', 'Q', '3'),\n",
       " ('2', 'K', '3', 'Q'),\n",
       " ('2', '3', 'Q', 'K'),\n",
       " ('2', '3', 'K', 'Q'),\n",
       " ('3', 'Q', 'K', '2'),\n",
       " ('3', 'Q', '2', 'K'),\n",
       " ('3', 'K', 'Q', '2'),\n",
       " ('3', 'K', '2', 'Q'),\n",
       " ('3', '2', 'Q', 'K'),\n",
       " ('3', '2', 'K', 'Q')]"
      ]
     },
     "execution_count": 20,
     "metadata": {},
     "output_type": "execute_result"
    }
   ],
   "source": [
    "decks_1_2_permutations = list(permutations(decks_1_2))\n",
    "\n",
    "decks_1_2_permutations"
   ]
  },
  {
   "cell_type": "code",
   "execution_count": 23,
   "metadata": {},
   "outputs": [
    {
     "name": "stdout",
     "output_type": "stream",
     "text": [
      "24\n"
     ]
    }
   ],
   "source": [
    "mixed_decks_permutations = len(decks_1_2_permutations)\n",
    "\n",
    "print(mixed_decks_permutations)"
   ]
  },
  {
   "cell_type": "markdown",
   "metadata": {},
   "source": [
    "## This is why there is more entropy when we merge two sets, there are more microstates available"
   ]
  },
  {
   "cell_type": "code",
   "execution_count": null,
   "metadata": {},
   "outputs": [],
   "source": []
  }
 ],
 "metadata": {
  "kernelspec": {
   "display_name": "Python 3",
   "language": "python",
   "name": "python3"
  },
  "language_info": {
   "codemirror_mode": {
    "name": "ipython",
    "version": 3
   },
   "file_extension": ".py",
   "mimetype": "text/x-python",
   "name": "python",
   "nbconvert_exporter": "python",
   "pygments_lexer": "ipython3",
   "version": "3.6.5"
  }
 },
 "nbformat": 4,
 "nbformat_minor": 2
}
